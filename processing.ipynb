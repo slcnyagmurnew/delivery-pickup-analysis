{
 "cells": [
  {
   "cell_type": "markdown",
   "source": [
    "**Data Operations with Polars instead of Pandas**"
   ],
   "metadata": {
    "collapsed": false
   }
  },
  {
   "cell_type": "code",
   "execution_count": 1,
   "outputs": [],
   "source": [
    "import polars as pl"
   ],
   "metadata": {
    "collapsed": false
   }
  },
  {
   "cell_type": "code",
   "execution_count": 2,
   "outputs": [],
   "source": [
    "df = pl.read_csv(\"data/train.csv\")"
   ],
   "metadata": {
    "collapsed": false
   }
  },
  {
   "cell_type": "code",
   "execution_count": 3,
   "outputs": [],
   "source": [
    "df_test = pl.read_csv(\"data/test.csv\")"
   ],
   "metadata": {
    "collapsed": false
   }
  },
  {
   "cell_type": "code",
   "execution_count": 4,
   "outputs": [
    {
     "data": {
      "text/plain": "{'Time_taken(min)'}"
     },
     "execution_count": 4,
     "metadata": {},
     "output_type": "execute_result"
    }
   ],
   "source": [
    "set(df.columns) - set(df_test.columns)"
   ],
   "metadata": {
    "collapsed": false
   }
  },
  {
   "cell_type": "code",
   "execution_count": 5,
   "outputs": [
    {
     "data": {
      "text/plain": "['ID',\n 'Delivery_person_ID',\n 'Delivery_person_Age',\n 'Delivery_person_Ratings',\n 'Restaurant_latitude',\n 'Restaurant_longitude',\n 'Delivery_location_latitude',\n 'Delivery_location_longitude',\n 'Order_Date',\n 'Time_Orderd',\n 'Time_Order_picked',\n 'Weatherconditions',\n 'Road_traffic_density',\n 'Vehicle_condition',\n 'Type_of_order',\n 'Type_of_vehicle',\n 'multiple_deliveries',\n 'Festival',\n 'City',\n 'Time_taken(min)']"
     },
     "execution_count": 5,
     "metadata": {},
     "output_type": "execute_result"
    }
   ],
   "source": [
    "df.columns"
   ],
   "metadata": {
    "collapsed": false
   }
  },
  {
   "cell_type": "markdown",
   "source": [
    "Convert latitude and longitude data to H3 based hexagon ids"
   ],
   "metadata": {
    "collapsed": false
   }
  },
  {
   "cell_type": "code",
   "execution_count": 24,
   "outputs": [],
   "source": [
    "import h3\n",
    "# same operations for test.csv data\n",
    "res = 6\n",
    "distance_data = []\n",
    "restaurants_data = []\n",
    "deliveries_data = []\n",
    "\n",
    "for row in df.rows(named=True):\n",
    "    res_del_distance_meters = h3.point_dist((row[\"Restaurant_latitude\"], row[\"Restaurant_longitude\"]),\n",
    "                               (row[\"Delivery_location_latitude\"], row[\"Delivery_location_longitude\"]),\n",
    "                               unit=\"m\")\n",
    "    restaurant = h3.geo_to_h3(lat=row[\"Restaurant_latitude\"], lng=row[\"Restaurant_longitude\"], resolution=res)\n",
    "    delivery = h3.geo_to_h3(lat=row[\"Delivery_location_latitude\"], lng=row[\"Delivery_location_longitude\"], resolution=res)\n",
    "\n",
    "    restaurants_data.append(restaurant)\n",
    "    deliveries_data.append(delivery)\n",
    "    distance_data.append(res_del_distance_meters)\n",
    "\n",
    "df = df.with_columns([\n",
    "    pl.Series(name=\"Distance(m)\", values=distance_data),\n",
    "    pl.Series(name=\"Restaurant_hex_id\", values=restaurants_data),\n",
    "    pl.Series(name=\"Delivery_hex_id\", values=deliveries_data)\n",
    "])"
   ],
   "metadata": {
    "collapsed": false
   }
  },
  {
   "cell_type": "markdown",
   "source": [
    "Remove latitude and longitude columns of restaurant and delivery locations"
   ],
   "metadata": {
    "collapsed": false
   }
  },
  {
   "cell_type": "code",
   "execution_count": 25,
   "outputs": [],
   "source": [
    "df = df.drop(columns=[\"Restaurant_latitude\", \"Restaurant_longitude\", \"Delivery_location_longitude\", \"Delivery_location_latitude\"])"
   ],
   "metadata": {
    "collapsed": false
   }
  },
  {
   "cell_type": "code",
   "execution_count": 8,
   "outputs": [],
   "source": [
    "import re"
   ],
   "metadata": {
    "collapsed": false
   }
  },
  {
   "cell_type": "markdown",
   "source": [
    "Convert multiple_deliveries column type from utf8 to integer after removing of \"NaN \" values"
   ],
   "metadata": {
    "collapsed": false
   }
  },
  {
   "cell_type": "code",
   "execution_count": 9,
   "outputs": [],
   "source": [
    "def convert_int_function(r):\n",
    "    try:\n",
    "        return int(re.search(r'\\d+', r).group())\n",
    "    except Exception as err:\n",
    "        print(err)\n",
    "        return -1"
   ],
   "metadata": {
    "collapsed": false
   }
  },
  {
   "cell_type": "code",
   "execution_count": 10,
   "outputs": [],
   "source": [
    "def remove_nan_from_multiple_deliveries(r: str):\n",
    "    return \"-1\" if \"NaN\" in r else r"
   ],
   "metadata": {
    "collapsed": false
   }
  },
  {
   "cell_type": "code",
   "execution_count": 26,
   "outputs": [
    {
     "data": {
      "text/plain": "shape: (5, 2)\n┌─────────────────────┬────────┐\n│ multiple_deliveries ┆ counts │\n│ ---                 ┆ ---    │\n│ str                 ┆ u32    │\n╞═════════════════════╪════════╡\n│ 1                   ┆ 7065   │\n│ 0                   ┆ 3491   │\n│ 2                   ┆ 513    │\n│ NaN                 ┆ 238    │\n│ 3                   ┆ 92     │\n└─────────────────────┴────────┘",
      "text/html": "<div><style>\n.dataframe > thead > tr > th,\n.dataframe > tbody > tr > td {\n  text-align: right;\n}\n</style>\n<small>shape: (5, 2)</small><table border=\"1\" class=\"dataframe\"><thead><tr><th>multiple_deliveries</th><th>counts</th></tr><tr><td>str</td><td>u32</td></tr></thead><tbody><tr><td>&quot;1&quot;</td><td>7065</td></tr><tr><td>&quot;0&quot;</td><td>3491</td></tr><tr><td>&quot;2&quot;</td><td>513</td></tr><tr><td>&quot;NaN &quot;</td><td>238</td></tr><tr><td>&quot;3&quot;</td><td>92</td></tr></tbody></table></div>"
     },
     "execution_count": 26,
     "metadata": {},
     "output_type": "execute_result"
    }
   ],
   "source": [
    "df[\"multiple_deliveries\"].value_counts()"
   ],
   "metadata": {
    "collapsed": false
   }
  },
  {
   "cell_type": "code",
   "execution_count": 28,
   "outputs": [],
   "source": [
    "df = df.with_columns(\n",
    "    [\n",
    "        pl.col(\"multiple_deliveries\").apply(remove_nan_from_multiple_deliveries).cast(pl.Int64),\n",
    "        pl.col(\"Time_taken(min)\").apply(convert_int_function)\n",
    "    ]\n",
    ")"
   ],
   "metadata": {
    "collapsed": false
   }
  },
  {
   "cell_type": "code",
   "execution_count": 29,
   "outputs": [
    {
     "data": {
      "text/plain": "shape: (5, 2)\n┌─────────────────────┬────────┐\n│ multiple_deliveries ┆ counts │\n│ ---                 ┆ ---    │\n│ i64                 ┆ u32    │\n╞═════════════════════╪════════╡\n│ 0                   ┆ 3491   │\n│ -1                  ┆ 238    │\n│ 3                   ┆ 92     │\n│ 2                   ┆ 513    │\n│ 1                   ┆ 7065   │\n└─────────────────────┴────────┘",
      "text/html": "<div><style>\n.dataframe > thead > tr > th,\n.dataframe > tbody > tr > td {\n  text-align: right;\n}\n</style>\n<small>shape: (5, 2)</small><table border=\"1\" class=\"dataframe\"><thead><tr><th>multiple_deliveries</th><th>counts</th></tr><tr><td>i64</td><td>u32</td></tr></thead><tbody><tr><td>0</td><td>3491</td></tr><tr><td>-1</td><td>238</td></tr><tr><td>3</td><td>92</td></tr><tr><td>2</td><td>513</td></tr><tr><td>1</td><td>7065</td></tr></tbody></table></div>"
     },
     "execution_count": 29,
     "metadata": {},
     "output_type": "execute_result"
    }
   ],
   "source": [
    "df[\"multiple_deliveries\"].value_counts()"
   ],
   "metadata": {
    "collapsed": false
   }
  },
  {
   "cell_type": "code",
   "execution_count": 30,
   "outputs": [],
   "source": [
    "# Apply all operations to test data also\n",
    "# df_test.write_csv(\"data/processed_test_data.csv\", has_header=True)"
   ],
   "metadata": {
    "collapsed": false
   }
  },
  {
   "cell_type": "code",
   "execution_count": 14,
   "outputs": [],
   "source": [
    "# \"Time_Orderd\", \"Time_Order_picked\" can be used for preparing time\n",
    "X = df[[\"Road_traffic_density\", \"Type_of_vehicle\", \"Distance(m)\",\n",
    "        \"Weatherconditions\", \"Vehicle_condition\", \"multiple_deliveries\"]].to_pandas()\n",
    "y = df[\"Time_taken(min)\"].to_pandas()"
   ],
   "metadata": {
    "collapsed": false
   }
  },
  {
   "cell_type": "code",
   "execution_count": 15,
   "outputs": [
    {
     "name": "stdout",
     "output_type": "stream",
     "text": [
      "<class 'pandas.core.frame.DataFrame'>\n",
      "<class 'pandas.core.series.Series'>\n"
     ]
    }
   ],
   "source": [
    "print(type(X))\n",
    "print(type(y))"
   ],
   "metadata": {
    "collapsed": false
   }
  },
  {
   "cell_type": "markdown",
   "source": [
    "Duration estimation of delivery with CatBoost Regressor model"
   ],
   "metadata": {
    "collapsed": false
   }
  },
  {
   "cell_type": "code",
   "execution_count": 16,
   "outputs": [
    {
     "data": {
      "text/plain": "<catboost.core.CatBoostRegressor at 0x7f844a797820>"
     },
     "execution_count": 16,
     "metadata": {},
     "output_type": "execute_result"
    }
   ],
   "source": [
    "from catboost import CatBoostRegressor, Pool\n",
    "from sklearn.model_selection import train_test_split\n",
    "\n",
    "cb = CatBoostRegressor(\n",
    "    n_estimators=200,\n",
    "    loss_function=\"MAPE\",\n",
    "    learning_rate=0.3,\n",
    "    depth=3,\n",
    "    random_state=1,\n",
    "    verbose=False\n",
    ")\n",
    "\n",
    "X_train, X_test, y_train, y_test = train_test_split(X, y, test_size=0.25, random_state=1)\n",
    "train_pool = Pool(data=X_train, label=y_train, cat_features=[\"Road_traffic_density\", \"Type_of_vehicle\",\n",
    "                                                             \"Weatherconditions\", \"Vehicle_condition\", \"multiple_deliveries\"])\n",
    "test_pool = Pool(X_test, cat_features=[\"Road_traffic_density\", \"Type_of_vehicle\",\n",
    "                                       \"Weatherconditions\", \"Vehicle_condition\", \"multiple_deliveries\"])\n",
    "cb.fit(train_pool)"
   ],
   "metadata": {
    "collapsed": false
   }
  },
  {
   "cell_type": "code",
   "execution_count": 17,
   "outputs": [],
   "source": [
    "y_pred = cb.predict(test_pool)"
   ],
   "metadata": {
    "collapsed": false
   }
  },
  {
   "cell_type": "code",
   "execution_count": 18,
   "outputs": [
    {
     "name": "stdout",
     "output_type": "stream",
     "text": [
      "MAPE in y_pred : 0.4623135193278682\n"
     ]
    }
   ],
   "source": [
    "import numpy as np\n",
    "from sklearn.metrics import mean_absolute_percentage_error as mape\n",
    "\n",
    "cb_mape = np.sqrt(mape(y_test, y_pred))\n",
    "print(f\"MAPE in y_pred : {np.mean(cb_mape)}\")"
   ],
   "metadata": {
    "collapsed": false
   }
  },
  {
   "cell_type": "code",
   "execution_count": 19,
   "outputs": [
    {
     "data": {
      "text/plain": "['Road_traffic_density',\n 'Type_of_vehicle',\n 'Distance(m)',\n 'Weatherconditions',\n 'Vehicle_condition',\n 'multiple_deliveries']"
     },
     "execution_count": 19,
     "metadata": {},
     "output_type": "execute_result"
    }
   ],
   "source": [
    "cb.feature_names_"
   ],
   "metadata": {
    "collapsed": false
   }
  },
  {
   "cell_type": "code",
   "execution_count": 20,
   "outputs": [],
   "source": [
    "cb.save_model(\"model/cb.pkl\", format=\"cbm\")"
   ],
   "metadata": {
    "collapsed": false
   }
  },
  {
   "cell_type": "code",
   "execution_count": 21,
   "outputs": [],
   "source": [
    "df.write_csv(\"data/processed_data.csv\", has_header=True)"
   ],
   "metadata": {
    "collapsed": false
   }
  },
  {
   "cell_type": "markdown",
   "source": [
    "Predict with test data"
   ],
   "metadata": {
    "collapsed": false
   }
  },
  {
   "cell_type": "code",
   "execution_count": 22,
   "outputs": [
    {
     "data": {
      "text/plain": "35.1904627569758"
     },
     "execution_count": 22,
     "metadata": {},
     "output_type": "execute_result"
    }
   ],
   "source": [
    "cb.predict(data=[\"High\", \"motorcycle\", 1465.2041612956887, \"conditions Windy\", 0, 3])"
   ],
   "metadata": {
    "collapsed": false
   }
  },
  {
   "cell_type": "code",
   "execution_count": 23,
   "outputs": [
    {
     "data": {
      "text/plain": "16.510762611140738"
     },
     "execution_count": 23,
     "metadata": {},
     "output_type": "execute_result"
    }
   ],
   "source": [
    "cb.predict(data=[\"Low \", \"scooter\", 7763.616358402078, \"conditions Sunny\", 2, 0])"
   ],
   "metadata": {
    "collapsed": false
   }
  },
  {
   "cell_type": "code",
   "execution_count": 23,
   "outputs": [],
   "source": [],
   "metadata": {
    "collapsed": false
   }
  }
 ],
 "metadata": {
  "kernelspec": {
   "display_name": "Python 3",
   "language": "python",
   "name": "python3"
  },
  "language_info": {
   "codemirror_mode": {
    "name": "ipython",
    "version": 2
   },
   "file_extension": ".py",
   "mimetype": "text/x-python",
   "name": "python",
   "nbconvert_exporter": "python",
   "pygments_lexer": "ipython2",
   "version": "2.7.6"
  }
 },
 "nbformat": 4,
 "nbformat_minor": 0
}
